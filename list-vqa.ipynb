{
 "cells": [
  {
   "cell_type": "markdown",
   "metadata": {},
   "source": [
    "# Variational Quantum Eigensolver (VQE)"
   ]
  },
  {
   "cell_type": "markdown",
   "metadata": {},
   "source": [
    "## What is it?"
   ]
  },
  {
   "cell_type": "markdown",
   "metadata": {},
   "source": [
    "### My understanding"
   ]
  },
  {
   "cell_type": "markdown",
   "metadata": {},
   "source": [
    "An algorithm used to find the ground state energy of a given Hamiltonian."
   ]
  },
  {
   "cell_type": "markdown",
   "metadata": {},
   "source": [
    "### [Given Definition](https://youtu.be/Z-A6G0WVI9w?feature=shared&t=127)"
   ]
  },
  {
   "cell_type": "markdown",
   "metadata": {},
   "source": [
    "VQE is a hybrid algorithm, where the quantum part computes the energy, and the classical part optimizes the variational parameter."
   ]
  },
  {
   "cell_type": "markdown",
   "metadata": {},
   "source": [
    "### Hamiltonian"
   ]
  },
  {
   "cell_type": "markdown",
   "metadata": {},
   "source": [
    "A Hamiltonian is just a mathematical description of the total energy of a system"
   ]
  },
  {
   "cell_type": "markdown",
   "metadata": {},
   "source": [
    "## How can we train it?"
   ]
  },
  {
   "cell_type": "code",
   "execution_count": 1,
   "metadata": {},
   "outputs": [
    {
     "name": "stdout",
     "output_type": "stream",
     "text": [
      "Requirement already satisfied: pyscf in /home/zylu/miniconda3/envs/cwq/lib/python3.12/site-packages (2.6.2)\n",
      "Requirement already satisfied: numpy!=1.16,!=1.17,>=1.13 in /home/zylu/miniconda3/envs/cwq/lib/python3.12/site-packages (from pyscf) (2.0.0)\n",
      "Requirement already satisfied: scipy!=1.5.0,!=1.5.1 in /home/zylu/miniconda3/envs/cwq/lib/python3.12/site-packages (from pyscf) (1.14.0)\n",
      "Requirement already satisfied: h5py>=2.7 in /home/zylu/miniconda3/envs/cwq/lib/python3.12/site-packages (from pyscf) (3.11.0)\n",
      "Requirement already satisfied: setuptools in /home/zylu/miniconda3/envs/cwq/lib/python3.12/site-packages (from pyscf) (69.5.1)\n",
      "Requirement already satisfied: qiskit-aer in /home/zylu/miniconda3/envs/cwq/lib/python3.12/site-packages (0.14.2)\n",
      "Requirement already satisfied: qiskit>=0.45.2 in /home/zylu/miniconda3/envs/cwq/lib/python3.12/site-packages (from qiskit-aer) (1.1.1)\n",
      "Requirement already satisfied: numpy>=1.16.3 in /home/zylu/miniconda3/envs/cwq/lib/python3.12/site-packages (from qiskit-aer) (2.0.0)\n",
      "Requirement already satisfied: scipy>=1.0 in /home/zylu/miniconda3/envs/cwq/lib/python3.12/site-packages (from qiskit-aer) (1.14.0)\n",
      "Requirement already satisfied: psutil>=5 in /home/zylu/miniconda3/envs/cwq/lib/python3.12/site-packages (from qiskit-aer) (5.9.0)\n",
      "Requirement already satisfied: rustworkx>=0.14.0 in /home/zylu/miniconda3/envs/cwq/lib/python3.12/site-packages (from qiskit>=0.45.2->qiskit-aer) (0.15.1)\n",
      "Requirement already satisfied: sympy>=1.3 in /home/zylu/miniconda3/envs/cwq/lib/python3.12/site-packages (from qiskit>=0.45.2->qiskit-aer) (1.13.0)\n",
      "Requirement already satisfied: dill>=0.3 in /home/zylu/miniconda3/envs/cwq/lib/python3.12/site-packages (from qiskit>=0.45.2->qiskit-aer) (0.3.8)\n",
      "Requirement already satisfied: python-dateutil>=2.8.0 in /home/zylu/miniconda3/envs/cwq/lib/python3.12/site-packages (from qiskit>=0.45.2->qiskit-aer) (2.9.0)\n",
      "Requirement already satisfied: stevedore>=3.0.0 in /home/zylu/miniconda3/envs/cwq/lib/python3.12/site-packages (from qiskit>=0.45.2->qiskit-aer) (5.2.0)\n",
      "Requirement already satisfied: typing-extensions in /home/zylu/miniconda3/envs/cwq/lib/python3.12/site-packages (from qiskit>=0.45.2->qiskit-aer) (4.12.2)\n",
      "Requirement already satisfied: symengine>=0.11 in /home/zylu/miniconda3/envs/cwq/lib/python3.12/site-packages (from qiskit>=0.45.2->qiskit-aer) (0.11.0)\n",
      "Requirement already satisfied: six>=1.5 in /home/zylu/miniconda3/envs/cwq/lib/python3.12/site-packages (from python-dateutil>=2.8.0->qiskit>=0.45.2->qiskit-aer) (1.16.0)\n",
      "Requirement already satisfied: pbr!=2.1.0,>=2.0.0 in /home/zylu/miniconda3/envs/cwq/lib/python3.12/site-packages (from stevedore>=3.0.0->qiskit>=0.45.2->qiskit-aer) (6.0.0)\n",
      "Requirement already satisfied: mpmath<1.4,>=1.1.0 in /home/zylu/miniconda3/envs/cwq/lib/python3.12/site-packages (from sympy>=1.3->qiskit>=0.45.2->qiskit-aer) (1.3.0)\n",
      "Requirement already satisfied: numpy in /home/zylu/miniconda3/envs/cwq/lib/python3.12/site-packages (2.0.0)\n",
      "Requirement already satisfied: scipy in /home/zylu/miniconda3/envs/cwq/lib/python3.12/site-packages (1.14.0)\n",
      "Requirement already satisfied: numpy<2.3,>=1.23.5 in /home/zylu/miniconda3/envs/cwq/lib/python3.12/site-packages (from scipy) (2.0.0)\n",
      "Requirement already satisfied: matplotlib in /home/zylu/miniconda3/envs/cwq/lib/python3.12/site-packages (3.9.1)\n",
      "Requirement already satisfied: contourpy>=1.0.1 in /home/zylu/miniconda3/envs/cwq/lib/python3.12/site-packages (from matplotlib) (1.2.1)\n",
      "Requirement already satisfied: cycler>=0.10 in /home/zylu/miniconda3/envs/cwq/lib/python3.12/site-packages (from matplotlib) (0.12.1)\n",
      "Requirement already satisfied: fonttools>=4.22.0 in /home/zylu/miniconda3/envs/cwq/lib/python3.12/site-packages (from matplotlib) (4.53.1)\n",
      "Requirement already satisfied: kiwisolver>=1.3.1 in /home/zylu/miniconda3/envs/cwq/lib/python3.12/site-packages (from matplotlib) (1.4.5)\n",
      "Requirement already satisfied: numpy>=1.23 in /home/zylu/miniconda3/envs/cwq/lib/python3.12/site-packages (from matplotlib) (2.0.0)\n",
      "Requirement already satisfied: packaging>=20.0 in /home/zylu/miniconda3/envs/cwq/lib/python3.12/site-packages (from matplotlib) (24.1)\n",
      "Requirement already satisfied: pillow>=8 in /home/zylu/miniconda3/envs/cwq/lib/python3.12/site-packages (from matplotlib) (10.4.0)\n",
      "Requirement already satisfied: pyparsing>=2.3.1 in /home/zylu/miniconda3/envs/cwq/lib/python3.12/site-packages (from matplotlib) (3.1.2)\n",
      "Requirement already satisfied: python-dateutil>=2.7 in /home/zylu/miniconda3/envs/cwq/lib/python3.12/site-packages (from matplotlib) (2.9.0)\n",
      "Requirement already satisfied: six>=1.5 in /home/zylu/miniconda3/envs/cwq/lib/python3.12/site-packages (from python-dateutil>=2.7->matplotlib) (1.16.0)\n",
      "Requirement already satisfied: qiskit-ibm-runtime in /home/zylu/miniconda3/envs/cwq/lib/python3.12/site-packages (0.25.0)\n",
      "Requirement already satisfied: requests>=2.19 in /home/zylu/miniconda3/envs/cwq/lib/python3.12/site-packages (from qiskit-ibm-runtime) (2.32.3)\n",
      "Requirement already satisfied: requests-ntlm>=1.1.0 in /home/zylu/miniconda3/envs/cwq/lib/python3.12/site-packages (from qiskit-ibm-runtime) (1.3.0)\n",
      "Requirement already satisfied: numpy>=1.13 in /home/zylu/miniconda3/envs/cwq/lib/python3.12/site-packages (from qiskit-ibm-runtime) (2.0.0)\n",
      "Requirement already satisfied: urllib3>=1.21.1 in /home/zylu/miniconda3/envs/cwq/lib/python3.12/site-packages (from qiskit-ibm-runtime) (2.2.2)\n",
      "Requirement already satisfied: python-dateutil>=2.8.0 in /home/zylu/miniconda3/envs/cwq/lib/python3.12/site-packages (from qiskit-ibm-runtime) (2.9.0)\n",
      "Requirement already satisfied: websocket-client>=1.5.1 in /home/zylu/miniconda3/envs/cwq/lib/python3.12/site-packages (from qiskit-ibm-runtime) (1.8.0)\n",
      "Requirement already satisfied: ibm-platform-services>=0.22.6 in /home/zylu/miniconda3/envs/cwq/lib/python3.12/site-packages (from qiskit-ibm-runtime) (0.54.2)\n",
      "Requirement already satisfied: pydantic>=2.5.0 in /home/zylu/miniconda3/envs/cwq/lib/python3.12/site-packages (from qiskit-ibm-runtime) (2.8.2)\n",
      "Requirement already satisfied: qiskit>=1.1.0 in /home/zylu/miniconda3/envs/cwq/lib/python3.12/site-packages (from qiskit-ibm-runtime) (1.1.1)\n",
      "Requirement already satisfied: ibm-cloud-sdk-core<4.0.0,>=3.19.2 in /home/zylu/miniconda3/envs/cwq/lib/python3.12/site-packages (from ibm-platform-services>=0.22.6->qiskit-ibm-runtime) (3.20.2)\n",
      "Requirement already satisfied: annotated-types>=0.4.0 in /home/zylu/miniconda3/envs/cwq/lib/python3.12/site-packages (from pydantic>=2.5.0->qiskit-ibm-runtime) (0.7.0)\n",
      "Requirement already satisfied: pydantic-core==2.20.1 in /home/zylu/miniconda3/envs/cwq/lib/python3.12/site-packages (from pydantic>=2.5.0->qiskit-ibm-runtime) (2.20.1)\n",
      "Requirement already satisfied: typing-extensions>=4.6.1 in /home/zylu/miniconda3/envs/cwq/lib/python3.12/site-packages (from pydantic>=2.5.0->qiskit-ibm-runtime) (4.12.2)\n",
      "Requirement already satisfied: six>=1.5 in /home/zylu/miniconda3/envs/cwq/lib/python3.12/site-packages (from python-dateutil>=2.8.0->qiskit-ibm-runtime) (1.16.0)\n",
      "Requirement already satisfied: rustworkx>=0.14.0 in /home/zylu/miniconda3/envs/cwq/lib/python3.12/site-packages (from qiskit>=1.1.0->qiskit-ibm-runtime) (0.15.1)\n",
      "Requirement already satisfied: scipy>=1.5 in /home/zylu/miniconda3/envs/cwq/lib/python3.12/site-packages (from qiskit>=1.1.0->qiskit-ibm-runtime) (1.14.0)\n",
      "Requirement already satisfied: sympy>=1.3 in /home/zylu/miniconda3/envs/cwq/lib/python3.12/site-packages (from qiskit>=1.1.0->qiskit-ibm-runtime) (1.13.0)\n",
      "Requirement already satisfied: dill>=0.3 in /home/zylu/miniconda3/envs/cwq/lib/python3.12/site-packages (from qiskit>=1.1.0->qiskit-ibm-runtime) (0.3.8)\n",
      "Requirement already satisfied: stevedore>=3.0.0 in /home/zylu/miniconda3/envs/cwq/lib/python3.12/site-packages (from qiskit>=1.1.0->qiskit-ibm-runtime) (5.2.0)\n",
      "Requirement already satisfied: symengine>=0.11 in /home/zylu/miniconda3/envs/cwq/lib/python3.12/site-packages (from qiskit>=1.1.0->qiskit-ibm-runtime) (0.11.0)\n",
      "Requirement already satisfied: charset-normalizer<4,>=2 in /home/zylu/miniconda3/envs/cwq/lib/python3.12/site-packages (from requests>=2.19->qiskit-ibm-runtime) (3.3.2)\n",
      "Requirement already satisfied: idna<4,>=2.5 in /home/zylu/miniconda3/envs/cwq/lib/python3.12/site-packages (from requests>=2.19->qiskit-ibm-runtime) (3.7)\n",
      "Requirement already satisfied: certifi>=2017.4.17 in /home/zylu/miniconda3/envs/cwq/lib/python3.12/site-packages (from requests>=2.19->qiskit-ibm-runtime) (2024.7.4)\n",
      "Requirement already satisfied: cryptography>=1.3 in /home/zylu/miniconda3/envs/cwq/lib/python3.12/site-packages (from requests-ntlm>=1.1.0->qiskit-ibm-runtime) (42.0.8)\n",
      "Requirement already satisfied: pyspnego>=0.4.0 in /home/zylu/miniconda3/envs/cwq/lib/python3.12/site-packages (from requests-ntlm>=1.1.0->qiskit-ibm-runtime) (0.11.0)\n",
      "Requirement already satisfied: cffi>=1.12 in /home/zylu/miniconda3/envs/cwq/lib/python3.12/site-packages (from cryptography>=1.3->requests-ntlm>=1.1.0->qiskit-ibm-runtime) (1.16.0)\n",
      "Requirement already satisfied: PyJWT<3.0.0,>=2.8.0 in /home/zylu/miniconda3/envs/cwq/lib/python3.12/site-packages (from ibm-cloud-sdk-core<4.0.0,>=3.19.2->ibm-platform-services>=0.22.6->qiskit-ibm-runtime) (2.8.0)\n",
      "Requirement already satisfied: pbr!=2.1.0,>=2.0.0 in /home/zylu/miniconda3/envs/cwq/lib/python3.12/site-packages (from stevedore>=3.0.0->qiskit>=1.1.0->qiskit-ibm-runtime) (6.0.0)\n",
      "Requirement already satisfied: mpmath<1.4,>=1.1.0 in /home/zylu/miniconda3/envs/cwq/lib/python3.12/site-packages (from sympy>=1.3->qiskit>=1.1.0->qiskit-ibm-runtime) (1.3.0)\n",
      "Requirement already satisfied: pycparser in /home/zylu/miniconda3/envs/cwq/lib/python3.12/site-packages (from cffi>=1.12->cryptography>=1.3->requests-ntlm>=1.1.0->qiskit-ibm-runtime) (2.22)\n",
      "Requirement already satisfied: pylatexenc in /home/zylu/miniconda3/envs/cwq/lib/python3.12/site-packages (2.10)\n",
      "Requirement already satisfied: qiskit in /home/zylu/miniconda3/envs/cwq/lib/python3.12/site-packages (1.1.1)\n",
      "Requirement already satisfied: rustworkx>=0.14.0 in /home/zylu/miniconda3/envs/cwq/lib/python3.12/site-packages (from qiskit) (0.15.1)\n",
      "Requirement already satisfied: numpy<3,>=1.17 in /home/zylu/miniconda3/envs/cwq/lib/python3.12/site-packages (from qiskit) (2.0.0)\n",
      "Requirement already satisfied: scipy>=1.5 in /home/zylu/miniconda3/envs/cwq/lib/python3.12/site-packages (from qiskit) (1.14.0)\n",
      "Requirement already satisfied: sympy>=1.3 in /home/zylu/miniconda3/envs/cwq/lib/python3.12/site-packages (from qiskit) (1.13.0)\n",
      "Requirement already satisfied: dill>=0.3 in /home/zylu/miniconda3/envs/cwq/lib/python3.12/site-packages (from qiskit) (0.3.8)\n",
      "Requirement already satisfied: python-dateutil>=2.8.0 in /home/zylu/miniconda3/envs/cwq/lib/python3.12/site-packages (from qiskit) (2.9.0)\n",
      "Requirement already satisfied: stevedore>=3.0.0 in /home/zylu/miniconda3/envs/cwq/lib/python3.12/site-packages (from qiskit) (5.2.0)\n",
      "Requirement already satisfied: typing-extensions in /home/zylu/miniconda3/envs/cwq/lib/python3.12/site-packages (from qiskit) (4.12.2)\n",
      "Requirement already satisfied: symengine>=0.11 in /home/zylu/miniconda3/envs/cwq/lib/python3.12/site-packages (from qiskit) (0.11.0)\n",
      "Requirement already satisfied: six>=1.5 in /home/zylu/miniconda3/envs/cwq/lib/python3.12/site-packages (from python-dateutil>=2.8.0->qiskit) (1.16.0)\n",
      "Requirement already satisfied: pbr!=2.1.0,>=2.0.0 in /home/zylu/miniconda3/envs/cwq/lib/python3.12/site-packages (from stevedore>=3.0.0->qiskit) (6.0.0)\n",
      "Requirement already satisfied: mpmath<1.4,>=1.1.0 in /home/zylu/miniconda3/envs/cwq/lib/python3.12/site-packages (from sympy>=1.3->qiskit) (1.3.0)\n"
     ]
    }
   ],
   "source": [
    "!pip install pyscf\n",
    "!pip install qiskit-aer\n",
    "!pip install numpy\n",
    "!pip install scipy\n",
    "!pip install matplotlib\n",
    "!pip install qiskit-ibm-runtime\n",
    "!pip install pylatexenc\n",
    "!pip install qiskit"
   ]
  },
  {
   "cell_type": "code",
   "execution_count": 2,
   "metadata": {},
   "outputs": [],
   "source": [
    "# General imports\n",
    "import numpy as np\n",
    "\n",
    "# Pre-defined ansatz circuit and operator class for Hamiltonian\n",
    "from qiskit.circuit.library import EfficientSU2\n",
    "from qiskit.quantum_info import SparsePauliOp\n",
    "\n",
    "# SciPy minimizer routine\n",
    "from scipy.optimize import minimize\n",
    "\n",
    "# Plotting functions\n",
    "import matplotlib.pyplot as plt"
   ]
  },
  {
   "cell_type": "code",
   "execution_count": 9,
   "metadata": {},
   "outputs": [],
   "source": [
    "# runtime imports\n",
    "from qiskit_ibm_runtime import QiskitRuntimeService, Session\n",
    "from qiskit_ibm_runtime import EstimatorV2 as Estimator\n",
    "\n",
    "# To run on hardware, select the backend with the fewest number of jobs in the queue\n",
    "service = QiskitRuntimeService.save_account(\n",
    "    channel='ibm_quantum',\n",
    "    token='254505744a2e74852187d65779e05c8ca05046071c584f962c73e610ed2356512fe291667021ea501af90c1da8f6cd4d84684f951a3faf1256f4d0c068b993d1',\n",
    "    set_as_default=True,\n",
    "    overwrite=True\n",
    ")\n",
    "\n",
    "service = QiskitRuntimeService()\n",
    "backend = service.least_busy(operational=True, simulator=False)"
   ]
  },
  {
   "cell_type": "code",
   "execution_count": 7,
   "metadata": {},
   "outputs": [
    {
     "data": {
      "text/plain": [
       "<IBMBackend('ibm_kyoto')>"
      ]
     },
     "execution_count": 7,
     "metadata": {},
     "output_type": "execute_result"
    }
   ],
   "source": [
    "backend"
   ]
  },
  {
   "cell_type": "markdown",
   "metadata": {},
   "source": [
    "### Step 1: Map classical inputs to a quantum problem"
   ]
  },
  {
   "cell_type": "code",
   "execution_count": null,
   "metadata": {},
   "outputs": [],
   "source": [
    "hamiltonian = SparsePauliOp.from_list(\n",
    "    [(\"YZ\", 0.3980), (\"ZI\", -0.3980), (\"ZZ\", -0.0113), (\"XX\", 0.1810)]\n",
    ")"
   ]
  },
  {
   "cell_type": "code",
   "execution_count": null,
   "metadata": {},
   "outputs": [
    {
     "data": {
      "image/png": "[encoded data removed]",
      "text/plain": [
       "<Figure size 1039.79x200.667 with 1 Axes>"
      ]
     },
     "execution_count": 4,
     "metadata": {},
     "output_type": "execute_result"
    }
   ],
   "source": [
    "ansatz = EfficientSU2(hamiltonian.num_qubits)\n",
    "ansatz.decompose().draw(\"mpl\", style=\"iqp\")"
   ]
  },
  {
   "cell_type": "code",
   "execution_count": null,
   "metadata": {},
   "outputs": [
    {
     "data": {
      "text/plain": [
       "16"
      ]
     },
     "execution_count": 5,
     "metadata": {},
     "output_type": "execute_result"
    }
   ],
   "source": [
    "num_params = ansatz.num_parameters\n",
    "num_params"
   ]
  },
  {
   "cell_type": "markdown",
   "metadata": {},
   "source": [
    "### Step 2: Optimize problem for quantum execution"
   ]
  },
  {
   "cell_type": "code",
   "execution_count": null,
   "metadata": {},
   "outputs": [],
   "source": [
    "from qiskit.transpiler.preset_passmanagers import generate_preset_pass_manager\n",
    "\n",
    "target = backend.target\n",
    "pm = generate_preset_pass_manager(target=target, optimization_level=3)\n",
    "\n",
    "ansatz_isa = pm.run(ansatz)"
   ]
  },
  {
   "cell_type": "code",
   "execution_count": null,
   "metadata": {},
   "outputs": [
    {
     "data": {
      "image/png": "[encoded data removed]",
      "text/plain": [
       "<Figure size 2281.26x451.5 with 1 Axes>"
      ]
     },
     "execution_count": 7,
     "metadata": {},
     "output_type": "execute_result"
    }
   ],
   "source": [
    "ansatz_isa.draw(output=\"mpl\", idle_wires=False, style=\"iqp\")"
   ]
  },
  {
   "cell_type": "markdown",
   "metadata": {},
   "source": [
    "#### ISA observable"
   ]
  },
  {
   "cell_type": "code",
   "execution_count": null,
   "metadata": {},
   "outputs": [],
   "source": [
    "hamiltonian_isa = hamiltonian.apply_layout(layout=ansatz_isa.layout)"
   ]
  },
  {
   "cell_type": "markdown",
   "metadata": {},
   "source": [
    "Transform the Hamiltonian to make it backend-compatible before running jobs with \n",
    "Runtime Estimator V2 Perform the transformation by using the apply_layout method of SparsePauliOp object."
   ]
  },
  {
   "cell_type": "markdown",
   "metadata": {},
   "source": [
    "### Step 3: Execute using Qiskit Primitives\n"
   ]
  },
  {
   "cell_type": "code",
   "execution_count": null,
   "metadata": {},
   "outputs": [],
   "source": [
    "def cost_func(params, ansatz, hamiltonian, estimator):\n",
    "    \"\"\"Return estimate of energy from estimator\n",
    "\n",
    "    Parameters:\n",
    "        params (ndarray): Array of ansatz parameters\n",
    "        ansatz (QuantumCircuit): Parameterized ansatz circuit\n",
    "        hamiltonian (SparsePauliOp): Operator representation of Hamiltonian\n",
    "        estimator (EstimatorV2): Estimator primitive instance\n",
    "        cost_history_dict: Dictionary for storing intermediate results\n",
    "\n",
    "    Returns:\n",
    "        float: Energy estimate\n",
    "    \"\"\"\n",
    "    pub = (ansatz, [hamiltonian], [params])\n",
    "    result = estimator.run(pubs=[pub]).result()\n",
    "    energy = result[0].data.evs[0]\n",
    "\n",
    "    cost_history_dict[\"iters\"] += 1\n",
    "    cost_history_dict[\"prev_vector\"] = params\n",
    "    cost_history_dict[\"cost_history\"].append(energy)\n",
    "    print(f\"Iters. done: {cost_history_dict['iters']} [Current cost: {energy}]\")\n",
    "\n",
    "    return energy"
   ]
  },
  {
   "cell_type": "code",
   "execution_count": null,
   "metadata": {},
   "outputs": [],
   "source": [
    "cost_history_dict = {\n",
    "    \"prev_vector\": None,\n",
    "    \"iters\": 0,\n",
    "    \"cost_history\": [],\n",
    "}"
   ]
  },
  {
   "cell_type": "code",
   "execution_count": null,
   "metadata": {},
   "outputs": [],
   "source": [
    "x0 = 2 * np.pi * np.random.random(num_params)"
   ]
  },
  {
   "cell_type": "code",
   "execution_count": null,
   "metadata": {},
   "outputs": [
    {
     "data": {
      "text/plain": [
       "array([1.99729101, 2.49795483, 5.75671752, 5.05653113, 2.88008001,\n",
       "       4.06973373, 4.92238642, 5.53657026, 6.18821218, 5.03557516,\n",
       "       0.15113799, 0.91847491, 4.89147661, 2.45093727, 1.53223398,\n",
       "       0.86804292])"
      ]
     },
     "execution_count": 12,
     "metadata": {},
     "output_type": "execute_result"
    }
   ],
   "source": [
    "x0"
   ]
  },
  {
   "cell_type": "code",
   "execution_count": null,
   "metadata": {},
   "outputs": [
    {
     "name": "stderr",
     "output_type": "stream",
     "text": [
      "/tmp/ipykernel_21343/1765566785.py:2: DeprecationWarning: The 'session' keyword arguments are deprecated as of qiskit-ibm-runtime 0.24.0 and will be removed no sooner than 3 months after the release date. Please use the 'mode' parameter instead.\n",
      "  estimator = Estimator(session=session)\n"
     ]
    },
    {
     "name": "stdout",
     "output_type": "stream",
     "text": [
      "Iters. done: 1 [Current cost: -0.28532481494093687]\n",
      "Iters. done: 2 [Current cost: -0.15378887458701193]\n",
      "Iters. done: 3 [Current cost: -0.3716250440907221]\n",
      "Iters. done: 4 [Current cost: -0.15069486844983201]\n",
      "Iters. done: 5 [Current cost: -0.37544930062512744]\n",
      "Iters. done: 6 [Current cost: -0.5266103871866816]\n",
      "Iters. done: 7 [Current cost: -0.22580481342293965]\n",
      "Iters. done: 8 [Current cost: -0.4079944827998275]\n",
      "Iters. done: 9 [Current cost: -0.40437757701868443]\n",
      "Iters. done: 10 [Current cost: -0.42852216342634347]\n",
      "Iters. done: 11 [Current cost: -0.3552201199446565]\n",
      "Iters. done: 12 [Current cost: -0.3833844059628258]\n",
      "Iters. done: 13 [Current cost: -0.3940719970831176]\n",
      "Iters. done: 14 [Current cost: -0.37915116285059347]\n",
      "Iters. done: 15 [Current cost: -0.2776476492307279]\n",
      "Iters. done: 16 [Current cost: -0.5798421230711293]\n",
      "Iters. done: 17 [Current cost: -0.5413653554964403]\n",
      "Iters. done: 18 [Current cost: -0.5655050783836677]\n",
      "Iters. done: 19 [Current cost: -0.49448521607436585]\n",
      "Iters. done: 20 [Current cost: -0.43454554082049374]\n",
      "Iters. done: 21 [Current cost: -0.5052528126772932]\n",
      "Iters. done: 22 [Current cost: -0.5603400667644995]\n",
      "Iters. done: 23 [Current cost: -0.5162050260245438]\n",
      "Iters. done: 24 [Current cost: -0.5799659892216633]\n",
      "Iters. done: 25 [Current cost: -0.5412434870811165]\n",
      "Iters. done: 26 [Current cost: -0.5606986367589044]\n",
      "Iters. done: 27 [Current cost: -0.44305292446173083]\n",
      "Iters. done: 28 [Current cost: -0.5975834660572499]\n",
      "Iters. done: 29 [Current cost: -0.5555887904098226]\n",
      "Iters. done: 30 [Current cost: -0.5944539595004191]\n",
      "Iters. done: 31 [Current cost: -0.5933909397549666]\n",
      "Iters. done: 32 [Current cost: -0.5493483529482344]\n",
      "Iters. done: 33 [Current cost: -0.5937601739571501]\n",
      "Iters. done: 34 [Current cost: -0.5514651610508616]\n",
      "Iters. done: 35 [Current cost: -0.6317227688535557]\n",
      "Iters. done: 36 [Current cost: -0.6220177669028805]\n",
      "Iters. done: 37 [Current cost: -0.6420237209039952]\n",
      "Iters. done: 38 [Current cost: -0.6292774114875453]\n",
      "Iters. done: 39 [Current cost: -0.4948234282824121]\n",
      "Iters. done: 40 [Current cost: -0.6566837358434391]\n",
      "Iters. done: 41 [Current cost: -0.6419187558898075]\n",
      "Iters. done: 42 [Current cost: -0.6625986865956568]\n",
      "Iters. done: 43 [Current cost: -0.6503320722326851]\n",
      "Iters. done: 44 [Current cost: -0.664351819398107]\n",
      "Iters. done: 45 [Current cost: -0.67269991860851]\n",
      "Iters. done: 46 [Current cost: -0.6704891495275686]\n",
      "Iters. done: 47 [Current cost: -0.6635913658226756]\n",
      "Iters. done: 48 [Current cost: -0.6433902398905386]\n",
      "Iters. done: 49 [Current cost: -0.6736112715387279]\n",
      "Iters. done: 50 [Current cost: -0.6840745876540629]\n",
      "Iters. done: 51 [Current cost: -0.6731678118855394]\n",
      "Iters. done: 52 [Current cost: -0.6646389148770592]\n",
      "Iters. done: 53 [Current cost: -0.6723487235488517]\n",
      "Iters. done: 54 [Current cost: -0.6628154897126681]\n",
      "Iters. done: 55 [Current cost: -0.6704340265781407]\n",
      "Iters. done: 56 [Current cost: -0.6773470620821898]\n",
      "Iters. done: 57 [Current cost: -0.674389604367524]\n",
      "Iters. done: 58 [Current cost: -0.6809636083738597]\n",
      "Iters. done: 59 [Current cost: -0.6782907209300456]\n",
      "Iters. done: 60 [Current cost: -0.6692955275144779]\n",
      "Iters. done: 61 [Current cost: -0.683961857364631]\n",
      "Iters. done: 62 [Current cost: -0.6879229604335527]\n",
      "Iters. done: 63 [Current cost: -0.6758459268446121]\n",
      "Iters. done: 64 [Current cost: -0.6717929124361836]\n",
      "Iters. done: 65 [Current cost: -0.663057147273936]\n",
      "Iters. done: 66 [Current cost: -0.6873689863100073]\n",
      "Iters. done: 67 [Current cost: -0.6771552791671696]\n",
      "Iters. done: 68 [Current cost: -0.6826528020689814]\n",
      "Iters. done: 69 [Current cost: -0.6728454833738927]\n",
      "Iters. done: 70 [Current cost: -0.6799874980899072]\n",
      "Iters. done: 71 [Current cost: -0.6745085691818707]\n",
      "Iters. done: 72 [Current cost: -0.6810608934842375]\n",
      "Iters. done: 73 [Current cost: -0.688108752625438]\n",
      "Iters. done: 74 [Current cost: -0.684727296324873]\n",
      "Iters. done: 75 [Current cost: -0.6792016873695135]\n",
      "Iters. done: 76 [Current cost: -0.6840242879545715]\n",
      "Iters. done: 77 [Current cost: -0.7007463379269838]\n",
      "Iters. done: 78 [Current cost: -0.6739169224963074]\n",
      "Iters. done: 79 [Current cost: -0.6801668374953157]\n",
      "Iters. done: 80 [Current cost: -0.6684371070888816]\n",
      "Iters. done: 81 [Current cost: -0.6942841784791819]\n",
      "Iters. done: 82 [Current cost: -0.7012540123938746]\n",
      "Iters. done: 83 [Current cost: -0.6992889320199788]\n",
      "Iters. done: 84 [Current cost: -0.6957779288248402]\n",
      "Iters. done: 85 [Current cost: -0.6826937136805973]\n",
      "Iters. done: 86 [Current cost: -0.6827057004867721]\n",
      "Iters. done: 87 [Current cost: -0.6744113804196147]\n",
      "Iters. done: 88 [Current cost: -0.6891108656112173]\n",
      "Iters. done: 89 [Current cost: -0.6737288139556329]\n",
      "Iters. done: 90 [Current cost: -0.7070637432119604]\n",
      "Iters. done: 91 [Current cost: -0.6622977657460417]\n",
      "Iters. done: 92 [Current cost: -0.6913259832223979]\n",
      "Iters. done: 93 [Current cost: -0.6993447365338866]\n",
      "Iters. done: 94 [Current cost: -0.6803079920037678]\n",
      "Iters. done: 95 [Current cost: -0.6873200423896032]\n",
      "Iters. done: 96 [Current cost: -0.6840884026210934]\n",
      "Iters. done: 97 [Current cost: -0.7361275375954174]\n",
      "Iters. done: 98 [Current cost: -0.6937219600742942]\n",
      "Iters. done: 99 [Current cost: -0.743215670095596]\n",
      "Iters. done: 100 [Current cost: -0.6809255530849687]\n",
      "Iters. done: 101 [Current cost: -0.675280958905778]\n",
      "Iters. done: 102 [Current cost: -0.670197165232061]\n",
      "Iters. done: 103 [Current cost: -0.6811025392303961]\n",
      "Iters. done: 104 [Current cost: -0.6952274990026062]\n",
      "Iters. done: 105 [Current cost: -0.680120977141618]\n",
      "Iters. done: 106 [Current cost: -0.6784247210531157]\n",
      "Iters. done: 107 [Current cost: -0.7988577442488242]\n",
      "Iters. done: 108 [Current cost: -0.6554140948987291]\n",
      "Iters. done: 109 [Current cost: -0.6938773948629843]\n",
      "Iters. done: 110 [Current cost: -0.6976505088350208]\n",
      "Iters. done: 111 [Current cost: -0.6925222007711308]\n",
      "Iters. done: 112 [Current cost: -0.7534277890045672]\n",
      "Iters. done: 113 [Current cost: -0.6709282143980979]\n",
      "Iters. done: 114 [Current cost: -0.6844994419155002]\n",
      "Iters. done: 115 [Current cost: -0.675602549872783]\n",
      "Iters. done: 116 [Current cost: -0.682662708698541]\n",
      "Iters. done: 117 [Current cost: -0.6777618523882437]\n",
      "Iters. done: 118 [Current cost: -0.6756196823433761]\n",
      "Iters. done: 119 [Current cost: -0.67559654958119]\n",
      "Iters. done: 120 [Current cost: -0.6801817296394627]\n",
      "Iters. done: 121 [Current cost: -0.6847078450466785]\n",
      "Iters. done: 122 [Current cost: -0.686098093324575]\n",
      "Iters. done: 123 [Current cost: -0.6789977600119009]\n",
      "Iters. done: 124 [Current cost: -0.6751813322170751]\n",
      "Iters. done: 125 [Current cost: -0.6695089662789704]\n",
      "Iters. done: 126 [Current cost: -0.6743690502763832]\n",
      "Iters. done: 127 [Current cost: -0.675559239159362]\n",
      "Iters. done: 128 [Current cost: -0.6924971503709937]\n",
      "Iters. done: 129 [Current cost: -0.6755722786116599]\n",
      "Iters. done: 130 [Current cost: -0.6817451075981905]\n",
      "Iters. done: 131 [Current cost: -0.6776058018384103]\n",
      "Iters. done: 132 [Current cost: -0.6816069849470162]\n",
      "Iters. done: 133 [Current cost: -0.6853113108630501]\n",
      "Iters. done: 134 [Current cost: -0.6775165620881702]\n",
      "Iters. done: 135 [Current cost: -0.6760059681471455]\n",
      "Iters. done: 136 [Current cost: -0.6762580020394742]\n",
      "Iters. done: 137 [Current cost: -0.672049241916613]\n",
      "Iters. done: 138 [Current cost: -0.6697342888038323]\n",
      "Iters. done: 139 [Current cost: -0.6768071163236938]\n",
      "Iters. done: 140 [Current cost: -0.6874608238566374]\n",
      "Iters. done: 141 [Current cost: -0.6510340535786444]\n",
      "Iters. done: 142 [Current cost: -0.6971660305081196]\n",
      "Iters. done: 143 [Current cost: -0.6748086490001018]\n",
      "Iters. done: 144 [Current cost: -0.6910068958587786]\n",
      "Iters. done: 145 [Current cost: -0.7621460255253624]\n",
      "Iters. done: 146 [Current cost: -0.7096420030395513]\n",
      "Iters. done: 147 [Current cost: -0.6642934780334663]\n",
      "Iters. done: 148 [Current cost: -0.6684755302802521]\n",
      "Iters. done: 149 [Current cost: -0.6978509891073615]\n",
      "Iters. done: 150 [Current cost: -0.6722960867617334]\n",
      "Iters. done: 151 [Current cost: -0.6831950397981517]\n",
      "Iters. done: 152 [Current cost: -0.6979197781754718]\n",
      "Iters. done: 153 [Current cost: -0.6914538279048369]\n",
      "Iters. done: 154 [Current cost: -0.6869253307707716]\n",
      "Iters. done: 155 [Current cost: -0.6736253630619515]\n",
      "Iters. done: 156 [Current cost: -0.6731121870598593]\n",
      "Iters. done: 157 [Current cost: -0.6786743566968791]\n",
      "Iters. done: 158 [Current cost: -0.674901787991162]\n",
      "Iters. done: 159 [Current cost: -0.684773280742206]\n",
      "Iters. done: 160 [Current cost: -0.6854904036544526]\n",
      "Iters. done: 161 [Current cost: -0.6919759050603838]\n",
      "Iters. done: 162 [Current cost: -0.6760188660100089]\n",
      "Iters. done: 163 [Current cost: -0.674520434198536]\n",
      "Iters. done: 164 [Current cost: -0.6762323176551165]\n",
      "Iters. done: 165 [Current cost: -0.6790410808350192]\n",
      "Iters. done: 166 [Current cost: -0.6852782654713515]\n",
      "Iters. done: 167 [Current cost: -0.6738097747927975]\n",
      "Iters. done: 168 [Current cost: -0.6709146400590003]\n",
      "Iters. done: 169 [Current cost: -0.6597095487583182]\n",
      "Iters. done: 170 [Current cost: -0.6968326490864031]\n",
      "Iters. done: 171 [Current cost: -0.7258216038724503]\n",
      "Iters. done: 172 [Current cost: -0.6926260944061499]\n",
      "Iters. done: 173 [Current cost: -0.656196141211155]\n",
      "Iters. done: 174 [Current cost: -0.7480420948120117]\n",
      "Iters. done: 175 [Current cost: -0.6420522043943742]\n",
      "Iters. done: 176 [Current cost: -0.6799004481973263]\n"
     ]
    }
   ],
   "source": [
    "with Session(backend=backend) as session:\n",
    "    estimator = Estimator(session=session)\n",
    "    estimator.options.default_shots = 10000\n",
    "\n",
    "    res = minimize(\n",
    "        cost_func,\n",
    "        x0,\n",
    "        args=(ansatz_isa, hamiltonian_isa, estimator),\n",
    "        method=\"cobyla\",\n",
    "    )"
   ]
  },
  {
   "cell_type": "code",
   "execution_count": null,
   "metadata": {},
   "outputs": [
    {
     "data": {
      "text/plain": [
       " message: Optimization terminated successfully.\n",
       " success: True\n",
       "  status: 1\n",
       "     fun: -0.6799004481973263\n",
       "       x: [ 2.016e+00  3.651e+00 ...  2.937e+00  9.882e-01]\n",
       "    nfev: 176\n",
       "   maxcv: 0.0"
      ]
     },
     "execution_count": 14,
     "metadata": {},
     "output_type": "execute_result"
    }
   ],
   "source": [
    "res"
   ]
  },
  {
   "cell_type": "markdown",
   "metadata": {},
   "source": [
    "### Step 4: Post-process, return result in classical format"
   ]
  },
  {
   "cell_type": "code",
   "execution_count": null,
   "metadata": {},
   "outputs": [
    {
     "data": {
      "text/plain": [
       "True"
      ]
     },
     "execution_count": 15,
     "metadata": {},
     "output_type": "execute_result"
    }
   ],
   "source": [
    "all(cost_history_dict[\"prev_vector\"] == res.x)"
   ]
  },
  {
   "cell_type": "code",
   "execution_count": null,
   "metadata": {},
   "outputs": [
    {
     "data": {
      "text/plain": [
       "True"
      ]
     },
     "execution_count": 16,
     "metadata": {},
     "output_type": "execute_result"
    }
   ],
   "source": [
    "cost_history_dict[\"iters\"] == res.nfev"
   ]
  },
  {
   "cell_type": "code",
   "execution_count": null,
   "metadata": {},
   "outputs": [
    {
     "data": {
      "image/png": "[encoded data removed]",
      "text/plain": [
       "<Figure size 640x480 with 1 Axes>"
      ]
     },
     "metadata": {},
     "output_type": "display_data"
    }
   ],
   "source": [
    "fig, ax = plt.subplots()\n",
    "ax.plot(range(cost_history_dict[\"iters\"]), cost_history_dict[\"cost_history\"])\n",
    "ax.set_xlabel(\"Iterations\")\n",
    "ax.set_ylabel(\"Cost\")\n",
    "plt.draw()"
   ]
  },
  {
   "cell_type": "code",
   "execution_count": null,
   "metadata": {},
   "outputs": [
    {
     "data": {
      "text/plain": [
       "'0.25.0'"
      ]
     },
     "execution_count": 18,
     "metadata": {},
     "output_type": "execute_result"
    }
   ],
   "source": [
    "import qiskit_ibm_runtime\n",
    "\n",
    "qiskit_ibm_runtime.version.get_version_info()"
   ]
  },
  {
   "cell_type": "code",
   "execution_count": null,
   "metadata": {},
   "outputs": [
    {
     "data": {
      "text/plain": [
       "'1.1.1'"
      ]
     },
     "execution_count": 19,
     "metadata": {},
     "output_type": "execute_result"
    }
   ],
   "source": [
    "import qiskit\n",
    "\n",
    "qiskit.version.get_version_info()"
   ]
  },
  {
   "cell_type": "markdown",
   "metadata": {},
   "source": [
    "## Use Case"
   ]
  },
  {
   "cell_type": "markdown",
   "metadata": {},
   "source": [
    "1. Compute the interatomic distance of a molecule"
   ]
  },
  {
   "cell_type": "markdown",
   "metadata": {},
   "source": [
    "## Citation"
   ]
  },
  {
   "cell_type": "markdown",
   "metadata": {},
   "source": [
    "[Variational quantum eigensolver](https://learning.quantum.ibm.com/tutorial/variational-quantum-eigensolver)\n",
    "\n",
    "\n",
    "[The Variational Quantum Eigensolver — Programming on Quantum Computers — Coding with Qiskit S2E4](https://youtu.be/Z-A6G0WVI9w?feature=shared)"
   ]
  },
  {
   "cell_type": "markdown",
   "metadata": {},
   "source": [
    "# Quantum Approximate Optimization Algorithm (QAOA):"
   ]
  },
  {
   "cell_type": "markdown",
   "metadata": {},
   "source": [
    "## What is it"
   ]
  },
  {
   "cell_type": "markdown",
   "metadata": {},
   "source": [
    "An algorithm designed for solving combinatorial optimization problems."
   ]
  }
 ],
 "metadata": {
  "kernelspec": {
   "display_name": "cwq",
   "language": "python",
   "name": "python3"
  },
  "language_info": {
   "codemirror_mode": {
    "name": "ipython",
    "version": 3
   },
   "file_extension": ".py",
   "mimetype": "text/x-python",
   "name": "python",
   "nbconvert_exporter": "python",
   "pygments_lexer": "ipython3",
   "version": "3.12.4"
  }
 },
 "nbformat": 4,
 "nbformat_minor": 2
}
